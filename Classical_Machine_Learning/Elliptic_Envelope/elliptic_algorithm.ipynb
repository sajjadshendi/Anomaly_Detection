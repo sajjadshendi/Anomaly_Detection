{
 "cells": [
  {
   "metadata": {
    "ExecuteTime": {
     "end_time": "2024-08-28T07:48:04.386240Z",
     "start_time": "2024-08-28T07:48:01.816095Z"
    }
   },
   "cell_type": "code",
   "source": [
    "#Import necessary libraries\n",
    "from sklearn.preprocessing import StandardScaler\n",
    "from sklearn.covariance import EllipticEnvelope\n",
    "from utils import elliptic_envelope\n",
    "import matplotlib.pyplot as plt\n",
    "import pandas as pd\n",
    "import numpy as np\n",
    "import copy\n",
    "import os"
   ],
   "id": "fbc121e30a2defb3",
   "outputs": [],
   "execution_count": 1
  },
  {
   "metadata": {
    "ExecuteTime": {
     "end_time": "2024-08-28T07:48:04.396880Z",
     "start_time": "2024-08-28T07:48:04.389243Z"
    }
   },
   "cell_type": "code",
   "source": [
    "#path of folders and datasets\n",
    "sheet_names = []\n",
    "xlsx_folder = None\n",
    "result_folder = None\n",
    "anomaly_condition = None\n",
    "cleaning_condition = None"
   ],
   "id": "db969966ecde8621",
   "outputs": [],
   "execution_count": 2
  },
  {
   "metadata": {
    "ExecuteTime": {
     "end_time": "2024-08-28T07:48:04.403119Z",
     "start_time": "2024-08-28T07:48:04.396880Z"
    }
   },
   "cell_type": "code",
   "source": [
    "#parameters\n",
    "test_sheet = None"
   ],
   "id": "3a52710517f85572",
   "outputs": [],
   "execution_count": 3
  },
  {
   "metadata": {
    "ExecuteTime": {
     "end_time": "2024-08-28T07:48:04.412465Z",
     "start_time": "2024-08-28T07:48:04.403119Z"
    }
   },
   "cell_type": "code",
   "source": [
    "#A function that makes csv datasets from multi-sheet excels\n",
    "def make_dataset(input_folder, output_folder, sheet_names):\n",
    "    contents = os.listdir(input_folder)\n",
    "    root = input_folder\n",
    "    total_data = {}\n",
    "    for sheet in sheet_names:\n",
    "        total_data[sheet] = pd.DataFrame()\n",
    "    for content in contents:\n",
    "        adr = root + \"/\" + content\n",
    "        if(os.path.isfile(adr)):\n",
    "            file_data = pd.read_excel(adr, sheet_name = sheet_names)\n",
    "            for sheet in sheet_names:\n",
    "                total_data[sheet] = pd.concat([total_data[sheet], file_data[sheet]])\n",
    "    for sheet in sheet_names:\n",
    "        total_data[sheet] = total_data[sheet].reset_index(drop = True)\n",
    "        total_data[sheet].to_csv(output_folder + \"/\" + sheet + \".csv\", index = False)\n",
    "    return total_data"
   ],
   "id": "14d259f0bb7ac410",
   "outputs": [],
   "execution_count": 4
  },
  {
   "metadata": {
    "ExecuteTime": {
     "end_time": "2024-08-28T07:48:04.419786Z",
     "start_time": "2024-08-28T07:48:04.412465Z"
    }
   },
   "cell_type": "code",
   "source": [
    "#A function that loads all sheet datasets from csv files and shuffles them, then puts them in a dict\n",
    "def load_dataset(data_folder, sheet_names):\n",
    "    data = {}\n",
    "    for sheet in sheet_names:\n",
    "        path = data_folder + \"/\" + sheet + \".csv\"\n",
    "        data[sheet] = pd.read_csv(path, low_memory=False).sample(frac = 1).reset_index(drop = True)\n",
    "    return data"
   ],
   "id": "a5e4851e0c900e8c",
   "outputs": [],
   "execution_count": 5
  },
  {
   "metadata": {
    "ExecuteTime": {
     "end_time": "2024-08-28T07:48:04.427238Z",
     "start_time": "2024-08-28T07:48:04.422459Z"
    }
   },
   "cell_type": "code",
   "source": "#data = make_dataset(xlsx_folder, result_folder, sheet_names)",
   "id": "af0597beb815390",
   "outputs": [],
   "execution_count": 6
  },
  {
   "metadata": {
    "ExecuteTime": {
     "end_time": "2024-08-28T07:48:48.524280Z",
     "start_time": "2024-08-28T07:48:04.430524Z"
    }
   },
   "cell_type": "code",
   "source": "all_data = load_dataset(result_folder, sheet_names)",
   "id": "f6edc446cdab0c4c",
   "outputs": [],
   "execution_count": 7
  },
  {
   "metadata": {},
   "cell_type": "code",
   "source": "print(len(all_data))",
   "id": "8defc2d4c1f436e2",
   "outputs": [],
   "execution_count": null
  },
  {
   "metadata": {
    "ExecuteTime": {
     "end_time": "2024-08-28T07:48:48.649084Z",
     "start_time": "2024-08-28T07:48:48.617106Z"
    }
   },
   "cell_type": "code",
   "source": [
    "#A function that drops rows of the dataset which have null values in specific columns\n",
    "def cleaning(dataframe):\n",
    "    data = copy.deepcopy(dataframe)\n",
    "    all_cols = data.columns\n",
    "    cols = []\n",
    "    for i in range(len(data.columns)):\n",
    "        if(isinstance(data.iloc[0, i], str) or data.iloc[0, i] is np.NaN):\n",
    "            pass\n",
    "        else:\n",
    "            cols.append(data.columns[i])\n",
    "    data = data.dropna(subset = cols)\n",
    "    data = data[cleaning_condition]\n",
    "    print(cols)\n",
    "    data.reset_index(drop = True, inplace = True)\n",
    "    return data"
   ],
   "id": "113c861d102deff",
   "outputs": [],
   "execution_count": 9
  },
  {
   "metadata": {
    "ExecuteTime": {
     "end_time": "2024-08-28T07:48:48.657286Z",
     "start_time": "2024-08-28T07:48:48.651511Z"
    }
   },
   "cell_type": "code",
   "source": [
    "def normalize(dataframe):\n",
    "    return pd.DataFrame(data = StandardScaler().fit_transform(dataframe))"
   ],
   "id": "aab394e2f898d22f",
   "outputs": [],
   "execution_count": 10
  },
  {
   "metadata": {},
   "cell_type": "code",
   "source": [
    "row_data = {}\n",
    "data = {}\n",
    "for sheet in sheet_names:\n",
    "    row_data[sheet] = cleaning(all_data[sheet])\n",
    "    data[sheet] = copy.deepcopy(row_data[sheet])"
   ],
   "id": "16db3f55861065ee",
   "outputs": [],
   "execution_count": null
  },
  {
   "metadata": {},
   "cell_type": "code",
   "source": "all_data[test_sheet]",
   "id": "c9919c37c925d2b6",
   "outputs": [],
   "execution_count": null
  },
  {
   "metadata": {},
   "cell_type": "code",
   "source": "row_data[test_sheet]",
   "id": "9934dbda358e7619",
   "outputs": [],
   "execution_count": null
  },
  {
   "metadata": {},
   "cell_type": "code",
   "source": [
    "# Drop columns of dataframe that their type is not number then normalizing them\n",
    "for sheet in sheet_names:\n",
    "    cols = []\n",
    "    for i in range(len(row_data[sheet].columns)):\n",
    "        if(isinstance(row_data[sheet].iloc[0, i], str) or row_data[sheet].iloc[0, i] is np.NaN):\n",
    "            col = row_data[sheet].columns[i]\n",
    "            cols.append(col)\n",
    "    data[sheet] = data[sheet].drop(columns = cols)\n",
    "    data[sheet] = normalize(data[sheet])\n",
    "data[test_sheet]"
   ],
   "id": "dd8f4a04986a6cc2",
   "outputs": [],
   "execution_count": null
  },
  {
   "metadata": {},
   "cell_type": "code",
   "source": [
    "#Run the elliptic envelope algorithm on all sheets and show some results of the test sheet\n",
    "#model = elliptic_envelope.elliptic_envelope(data[test_sheet], 0.01, flag = True)\n",
    "#model.detection()\n",
    "results = {}\n",
    "for sheet in sheet_names:\n",
    "    if(sheet == test_sheet):\n",
    "        model = elliptic_envelope.elliptic_envelope(row_data[sheet], data[sheet], 0.01, flag = True)\n",
    "    else:\n",
    "        model = elliptic_envelope.elliptic_envelope(row_data[sheet], data[sheet], 0.01)\n",
    "    results[sheet] = model.detection()\n",
    "print(results)"
   ],
   "id": "b49f23cacbd56986",
   "outputs": [],
   "execution_count": null
  },
  {
   "metadata": {},
   "cell_type": "code",
   "outputs": [],
   "execution_count": null,
   "source": "",
   "id": "520af5713a605e31"
  }
 ],
 "metadata": {
  "kernelspec": {
   "display_name": "Python 3",
   "language": "python",
   "name": "python3"
  },
  "language_info": {
   "codemirror_mode": {
    "name": "ipython",
    "version": 2
   },
   "file_extension": ".py",
   "mimetype": "text/x-python",
   "name": "python",
   "nbconvert_exporter": "python",
   "pygments_lexer": "ipython2",
   "version": "2.7.6"
  }
 },
 "nbformat": 4,
 "nbformat_minor": 5
}
