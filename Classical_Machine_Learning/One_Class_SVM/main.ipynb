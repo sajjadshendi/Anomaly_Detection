{
 "cells": [
  {
   "metadata": {
    "ExecuteTime": {
     "end_time": "2024-08-28T07:48:23.173246Z",
     "start_time": "2024-08-28T07:48:20.167797Z"
    }
   },
   "cell_type": "code",
   "source": [
    "#Import necessary libraries\n",
    "from sklearn.preprocessing import StandardScaler\n",
    "from utils import One_Class_SVM\n",
    "import pandas as pd\n",
    "import numpy as np\n",
    "import copy\n",
    "import os"
   ],
   "id": "fbc121e30a2defb3",
   "outputs": [],
   "execution_count": 1
  },
  {
   "metadata": {
    "ExecuteTime": {
     "end_time": "2024-08-28T07:48:23.183132Z",
     "start_time": "2024-08-28T07:48:23.175258Z"
    }
   },
   "cell_type": "code",
   "source": [
    "#path of folders and datasets\n",
    "sheet_names = []\n",
    "xlsx_folder = None\n",
    "result_folder = None\n",
    "cleaning_condition = None"
   ],
   "id": "6fecdd2f4adfa85f",
   "outputs": [],
   "execution_count": 2
  },
  {
   "metadata": {
    "ExecuteTime": {
     "end_time": "2024-08-28T07:48:23.191550Z",
     "start_time": "2024-08-28T07:48:23.184268Z"
    }
   },
   "cell_type": "code",
   "source": [
    "#parameters\n",
    "test_sheet = None"
   ],
   "id": "1b2900773c7474af",
   "outputs": [],
   "execution_count": 3
  },
  {
   "metadata": {
    "ExecuteTime": {
     "end_time": "2024-08-28T07:48:23.201791Z",
     "start_time": "2024-08-28T07:48:23.192748Z"
    }
   },
   "cell_type": "code",
   "source": [
    "#A function that makes csv datasets from multi-sheet excels\n",
    "def make_dataset(input_folder, output_folder, sheet_names):\n",
    "    contents = os.listdir(input_folder)\n",
    "    root = input_folder\n",
    "    total_data = {}\n",
    "    for sheet in sheet_names:\n",
    "        total_data[sheet] = pd.DataFrame()\n",
    "    for content in contents:\n",
    "        adr = root + \"/\" + content\n",
    "        if(os.path.isfile(adr)):\n",
    "            file_data = pd.read_excel(adr, sheet_name = sheet_names)\n",
    "            for sheet in sheet_names:\n",
    "                total_data[sheet] = pd.concat([total_data[sheet], file_data[sheet]])\n",
    "    for sheet in sheet_names:\n",
    "        total_data[sheet] = total_data[sheet].reset_index(drop = True)\n",
    "        total_data[sheet].to_csv(output_folder + \"/\" + sheet + \".csv\", index = False)\n",
    "    return total_data"
   ],
   "id": "ea801624e9f68861",
   "outputs": [],
   "execution_count": 4
  },
  {
   "metadata": {
    "ExecuteTime": {
     "end_time": "2024-08-28T07:48:23.209006Z",
     "start_time": "2024-08-28T07:48:23.204961Z"
    }
   },
   "cell_type": "code",
   "source": "#data = make_dataset(xlsx_folder, result_folder, sheet_names)",
   "id": "3c37c49cd8df93c2",
   "outputs": [],
   "execution_count": 5
  },
  {
   "metadata": {
    "ExecuteTime": {
     "end_time": "2024-08-28T07:48:23.218413Z",
     "start_time": "2024-08-28T07:48:23.211066Z"
    }
   },
   "cell_type": "code",
   "source": [
    "#A function that loads all sheet datasets from csv files and puts them in a dict\n",
    "def load_dataset(data_folder, sheet_names):\n",
    "    data = {}\n",
    "    for sheet in sheet_names:\n",
    "        path = data_folder + \"/\" + sheet + \".csv\"\n",
    "        data[sheet] = pd.read_csv(path, low_memory=False).sample(frac = 1).reset_index(drop = True)\n",
    "    return data"
   ],
   "id": "b3a97b685154bf24",
   "outputs": [],
   "execution_count": 6
  },
  {
   "metadata": {
    "ExecuteTime": {
     "end_time": "2024-08-28T07:49:07.389029Z",
     "start_time": "2024-08-28T07:48:23.220409Z"
    }
   },
   "cell_type": "code",
   "source": "all_data = load_dataset(\"C:/Users/hamra/PycharmProjects/OCSVM/data/result\", sheet_names)",
   "id": "5056322493cb0bd9",
   "outputs": [],
   "execution_count": 7
  },
  {
   "metadata": {},
   "cell_type": "code",
   "source": "print(len(all_data))",
   "id": "d3c1f85bbab6862d",
   "outputs": [],
   "execution_count": null
  },
  {
   "metadata": {
    "ExecuteTime": {
     "end_time": "2024-08-28T07:49:07.568782Z",
     "start_time": "2024-08-28T07:49:07.515795Z"
    }
   },
   "cell_type": "code",
   "source": [
    "#A function that drops rows of the dataset which have null values in specific columns\n",
    "def cleaning(dataframe):\n",
    "    data = copy.deepcopy(dataframe)\n",
    "    all_cols = data.columns\n",
    "    cols = []\n",
    "    for i in range(len(data.columns)):\n",
    "        if(isinstance(data.iloc[0, i], str) or data.iloc[0, i] is np.NaN):\n",
    "            pass\n",
    "        else:\n",
    "            cols.append(data.columns[i])\n",
    "    data = data.dropna(subset = cols)\n",
    "    data = data[cleaning_condition]\n",
    "    print(cols)\n",
    "    data.reset_index(drop = True, inplace = True)\n",
    "    return data"
   ],
   "id": "da2ca617a4fe45d0",
   "outputs": [],
   "execution_count": 9
  },
  {
   "metadata": {
    "ExecuteTime": {
     "end_time": "2024-08-28T07:49:07.583201Z",
     "start_time": "2024-08-28T07:49:07.568782Z"
    }
   },
   "cell_type": "code",
   "source": [
    "def normalize(dataframe):\n",
    "    return pd.DataFrame(data = StandardScaler().fit_transform(dataframe))"
   ],
   "id": "8e82374cd1bc492b",
   "outputs": [],
   "execution_count": 10
  },
  {
   "metadata": {},
   "cell_type": "code",
   "source": [
    "row_data = {}\n",
    "data = {}\n",
    "for sheet in sheet_names:\n",
    "    row_data[sheet] = cleaning(all_data[sheet])\n",
    "    data[sheet] = copy.deepcopy(row_data[sheet])"
   ],
   "id": "751be35992739580",
   "outputs": [],
   "execution_count": null
  },
  {
   "metadata": {},
   "cell_type": "code",
   "source": "all_data[test_sheet]",
   "id": "6d4e0efe66bbda37",
   "outputs": [],
   "execution_count": null
  },
  {
   "metadata": {},
   "cell_type": "code",
   "source": "row_data[test_sheet]",
   "id": "463ba546f5360308",
   "outputs": [],
   "execution_count": null
  },
  {
   "metadata": {},
   "cell_type": "code",
   "source": [
    "#Replace string and null values in dataframes with 1 then normalizing them\n",
    "for sheet in sheet_names:\n",
    "    all_values = np.array([])\n",
    "    for i in range(len(data[sheet].columns)):\n",
    "        if(isinstance(data[sheet].iloc[0, i], str) or data[sheet].iloc[0, i] is np.NaN):\n",
    "            col = data[sheet].columns[i]\n",
    "            data[sheet].loc[:, col] = 1\n",
    "            col_values = row_data[sheet][col].unique()\n",
    "            all_values = np.concatenate((all_values, col_values))\n",
    "    all_values = list(all_values)\n",
    "    targets = list(np.full(len(all_values), 1))\n",
    "    map = {all_values[i]: targets[i] for i in range(len(targets))}\n",
    "    for item in list(map.keys()):\n",
    "        pass\n",
    "    data[sheet] = normalize(data[sheet])\n",
    "data[test_sheet]"
   ],
   "id": "13dfe2d8c504a3b9",
   "outputs": [],
   "execution_count": null
  },
  {
   "metadata": {
    "jupyter": {
     "is_executing": true
    },
    "ExecuteTime": {
     "start_time": "2024-08-20T10:37:17.012120Z"
    }
   },
   "cell_type": "code",
   "source": [
    "#Run an algorithm on all sheets and show some results of the test sheet\n",
    "model = One_Class_SVM.one_class_svm(row_data[test_sheet], data[test_sheet], flag = True)\n",
    "model.detection()\n",
    "#results = {}\n",
    "#for sheet in sheet_names:\n",
    "#    if(sheet == test_sheet):\n",
    "#        model = One_Class_SVM.one_class_svm(row_data[sheet], data[sheet], flag = True)\n",
    "#    else:\n",
    "#        model = One_Class_SVM.one_class_svm(row_data[sheet], data[sheet])\n",
    "#    results[sheet] = model.detection()\n",
    "#print(results)"
   ],
   "id": "466e8d613ae2ac14",
   "outputs": [
    {
     "name": "stdout",
     "output_type": "stream",
     "text": [
      "start\n"
     ]
    }
   ],
   "execution_count": null
  },
  {
   "metadata": {},
   "cell_type": "code",
   "outputs": [],
   "execution_count": null,
   "source": "",
   "id": "ba4ddd127fbe2e9e"
  }
 ],
 "metadata": {
  "kernelspec": {
   "display_name": "Python 3",
   "language": "python",
   "name": "python3"
  },
  "language_info": {
   "codemirror_mode": {
    "name": "ipython",
    "version": 2
   },
   "file_extension": ".py",
   "mimetype": "text/x-python",
   "name": "python",
   "nbconvert_exporter": "python",
   "pygments_lexer": "ipython2",
   "version": "2.7.6"
  }
 },
 "nbformat": 4,
 "nbformat_minor": 5
}
