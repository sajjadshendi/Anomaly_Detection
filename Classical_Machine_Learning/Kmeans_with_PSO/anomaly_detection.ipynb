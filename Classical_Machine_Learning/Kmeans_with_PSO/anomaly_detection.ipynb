{
 "cells": [
  {
   "metadata": {},
   "cell_type": "code",
   "outputs": [],
   "execution_count": null,
   "source": [
    "dataset_path = None\n",
    "anomaly_condition = None"
   ],
   "id": "eba98ea0873fc6e6"
  },
  {
   "metadata": {
    "ExecuteTime": {
     "end_time": "2024-07-24T10:33:28.460268Z",
     "start_time": "2024-07-24T10:33:28.447607Z"
    }
   },
   "cell_type": "code",
   "source": [
    "from PS0_Files.pso import ParticleSwarmOptimizedClustering\n",
    "from sklearn.cluster import KMeans\n",
    "import matplotlib.pyplot as plt\n",
    "from kneed import KneeLocator\n",
    "import pandas as pd\n",
    "import numpy as np\n",
    "import copy"
   ],
   "id": "fbc121e30a2defb3",
   "outputs": [],
   "execution_count": 62
  },
  {
   "metadata": {
    "ExecuteTime": {
     "end_time": "2024-07-24T10:33:28.620098Z",
     "start_time": "2024-07-24T10:33:28.607414Z"
    }
   },
   "cell_type": "code",
   "source": [
    "maximum_cluster = 20\n",
    "minimun_threshold = 70\n",
    "#PSO parameters\n",
    "n_particles = 2\n",
    "max_iter = 5"
   ],
   "id": "635e17e2495a79eb",
   "outputs": [],
   "execution_count": 63
  },
  {
   "metadata": {
    "ExecuteTime": {
     "end_time": "2024-07-24T10:33:28.798130Z",
     "start_time": "2024-07-24T10:33:28.791749Z"
    }
   },
   "cell_type": "code",
   "source": [
    "class fit:\n",
    "    def __init__(self, df, num_cluster):\n",
    "        self.df = df\n",
    "        self.num_cluster = num_cluster\n",
    "        self.pso = ParticleSwarmOptimizedClustering(\n",
    "        n_cluster = self.num_cluster, n_particles=n_particles, data=self.df, hybrid=True, max_iter=max_iter)\n",
    "        self.best_centers = None\n",
    "        self.clusters = None\n",
    "    \n",
    "    def get_labels_centers(self):\n",
    "        history, self.best_centers, self.clusters  = self.pso.run()\n",
    "        return history, self.best_centers, self.clusters\n",
    "    \n",
    "    def predict(self, arr):\n",
    "        return self.pso.particles[self.pso.best_particle]._predict(arr)"
   ],
   "id": "19499f3a01212ac7",
   "outputs": [],
   "execution_count": 64
  },
  {
   "metadata": {
    "ExecuteTime": {
     "end_time": "2024-07-24T10:33:28.976319Z",
     "start_time": "2024-07-24T10:33:28.967599Z"
    }
   },
   "cell_type": "code",
   "source": [
    "def detector(df, percentile_threshold):\n",
    "    df_array = df.values\n",
    "    inertias = []\n",
    "    for i in range(1,5):\n",
    "        kmeans = KMeans(n_clusters=i)\n",
    "        kmeans.fit(df_array)\n",
    "        inertias.append(kmeans.inertia_)\n",
    "    tmp = range(1, len(inertias)+1)\n",
    "    kn = KneeLocator(tmp, inertias, curve='convex', direction='decreasing')\n",
    "    num_cluster = kn.knee\n",
    "    detector_fit_obj = fit(df_array, num_cluster)\n",
    "    history, cluster_centers, kmeans_labels = detector_fit_obj.get_labels_centers()\n",
    "    distances = [np.linalg.norm(df_array[i] - cluster_centers[kmeans_labels[i]]) for i in range(len(kmeans_labels))]\n",
    "    threshold_distance = np.percentile(distances, percentile_threshold)\n",
    "    anomalies = []\n",
    "    indexes = []\n",
    "    for i, distance in enumerate(distances):\n",
    "        if distance > threshold_distance:\n",
    "            anomalies.append(df_array[i])\n",
    "            indexes.append(i)\n",
    "    anomalies = np.asarray(anomalies, dtype=np.float32)\n",
    "    return indexes, anomalies, distances"
   ],
   "id": "9140ef5bd5b22455",
   "outputs": [],
   "execution_count": 65
  },
  {
   "metadata": {
    "ExecuteTime": {
     "end_time": "2024-07-24T10:33:29.145276Z",
     "start_time": "2024-07-24T10:33:29.134615Z"
    }
   },
   "cell_type": "code",
   "source": [
    "def knee_locator(df, maximum_cluster):\n",
    "    inertias = []\n",
    "    for i in range(1, maximum_cluster):\n",
    "        kmeans = KMeans(n_clusters=i)\n",
    "        kmeans.fit(df)\n",
    "        inertias.append(kmeans.inertia_)\n",
    "    tmp = range(1, len(inertias)+1)\n",
    "    kn = KneeLocator(tmp, inertias, curve='convex', direction='decreasing')\n",
    "    return kn.knee"
   ],
   "id": "ef7821fb20415d8a",
   "outputs": [],
   "execution_count": 66
  },
  {
   "metadata": {
    "ExecuteTime": {
     "end_time": "2024-07-24T10:33:29.331582Z",
     "start_time": "2024-07-24T10:33:29.324592Z"
    }
   },
   "cell_type": "code",
   "source": [
    "def label_maker(df):\n",
    "    anomals = list(df.loc[anomaly_condition].index)\n",
    "    return anomals"
   ],
   "id": "cfa04dfb5f212104",
   "outputs": [],
   "execution_count": 67
  },
  {
   "metadata": {
    "ExecuteTime": {
     "end_time": "2024-07-24T10:33:29.492509Z",
     "start_time": "2024-07-24T10:33:29.475173Z"
    }
   },
   "cell_type": "code",
   "source": [
    "def measurements(indexes, anomals):\n",
    "    true_positive = len([value for value in indexes if value in anomals])\n",
    "    false_negative = len([value for value in anomals if not(value in indexes)])\n",
    "    false_positive = len([value for value in indexes if not(value in anomals)])\n",
    "    #print(true_positive, false_positive, false_negative)\n",
    "    precision = true_positive / (true_positive + false_negative)\n",
    "    recall = true_positive / (true_positive + false_positive)\n",
    "    f1_score = 2 * (precision * recall) / (precision + recall)\n",
    "    false_positive_rate = false_positive / len(indexes)\n",
    "    false_negative_rate = false_negative / len(anomals)\n",
    "    return precision, recall, f1_score, false_positive_rate, false_negative_rate"
   ],
   "id": "84c5b5e686f8dae7",
   "outputs": [],
   "execution_count": 68
  },
  {
   "metadata": {
    "ExecuteTime": {
     "end_time": "2024-07-24T10:33:29.706668Z",
     "start_time": "2024-07-24T10:33:29.696367Z"
    }
   },
   "cell_type": "code",
   "source": [
    "def validate(kmeans_obj, dataset, df):\n",
    "    cluster_centers = kmeans_obj.best_centers\n",
    "    val_kmeans_labels = kmeans_obj.predict(df)\n",
    "    val_distances = [np.linalg.norm(df[i] - cluster_centers[val_kmeans_labels[i]]) for i in range(len(val_kmeans_labels))]\n",
    "    best_threshold = 0\n",
    "    best_f1_score = 0\n",
    "    actual_anomals = label_maker(dataset)\n",
    "    length = len(actual_anomals)\n",
    "    final_actual_anomals = [actual_anomals[i] - dataset.index[0] for i in range(length)]\n",
    "    for percentile_threshold in range(70, 100, 2):\n",
    "        val_threshold_distance = np.percentile(val_distances, percentile_threshold)\n",
    "        val_anomalies = []\n",
    "        val_indexes = []\n",
    "        for i, val_distance in enumerate(val_distances):\n",
    "            if val_distance > val_threshold_distance:\n",
    "                val_anomalies.append(df[i])\n",
    "                val_indexes.append(i)\n",
    "        val_anomalies = np.asarray(val_anomalies, dtype=np.float32)\n",
    "        val_precision, val_recall, val_f1_score, val_false_positive_rate, val_false_negative_rate = measurements(val_indexes, final_actual_anomals)\n",
    "        if(best_f1_score < val_f1_score):\n",
    "            best_threshold = percentile_threshold\n",
    "            best_f1_score = val_f1_score\n",
    "    return best_threshold"
   ],
   "id": "a7c31913bbfbf118",
   "outputs": [],
   "execution_count": 69
  },
  {
   "metadata": {
    "ExecuteTime": {
     "end_time": "2024-07-24T10:33:29.872683Z",
     "start_time": "2024-07-24T10:33:29.856070Z"
    }
   },
   "cell_type": "code",
   "source": [
    "def test_valid(df1, df2, df3):\n",
    "    df1_array = df1.values\n",
    "    df2_array = df2.values\n",
    "    df3_array = df3.values\n",
    "    num_cluster = knee_locator(df1_array, maximum_cluster)\n",
    "    kmeans_obj = fit(df1_array, num_cluster)\n",
    "    kmeans_obj.get_labels_centers()\n",
    "    cluster_centers = kmeans_obj.best_centers\n",
    "    best_threshold = validate(kmeans_obj, df2, df2_array)\n",
    "    print(best_threshold)\n",
    "    test_kmeans_labels = kmeans_obj.predict(df3_array)\n",
    "    test_distances = [np.linalg.norm(df3_array[i] - cluster_centers[test_kmeans_labels[i]]) for i in range(len(test_kmeans_labels))]\n",
    "    test_threshold_distance = np.percentile(test_distances, best_threshold)\n",
    "    test_anomalies = []\n",
    "    test_indexes = []\n",
    "    for i, test_distance in enumerate(test_distances):\n",
    "        if test_distance > test_threshold_distance:\n",
    "            test_anomalies.append(df3_array[i])\n",
    "            test_indexes.append(i)\n",
    "    test_anomalies = np.asarray(test_anomalies, dtype=np.float32)\n",
    "    return test_indexes, test_anomalies, test_distances"
   ],
   "id": "84d07d3276e26f72",
   "outputs": [],
   "execution_count": 70
  },
  {
   "metadata": {
    "ExecuteTime": {
     "end_time": "2024-07-24T10:33:30.026851Z",
     "start_time": "2024-07-24T10:33:30.014725Z"
    }
   },
   "cell_type": "code",
   "source": [
    "def show(ind, ano, dis, type):\n",
    "    plt.rcParams[\"figure.figsize\"] = [10, 10]\n",
    "    plt.rcParams[\"figure.autolayout\"] = True\n",
    "    x = list(range(len(dis)))\n",
    "    ind.sort()\n",
    "    co_indexes = copy.deepcopy(ind)\n",
    "    for i in range(len(co_indexes)):\n",
    "        co_indexes[i] -= i\n",
    "        del x[co_indexes[i]]\n",
    "    for i in range(len(x)):\n",
    "        x[i] += 1\n",
    "    y = [dis[idx - 1] for idx in x]\n",
    "    plt.title(\"distances\")\n",
    "    if(type == 'line'):\n",
    "        plt.plot(x, y, color = \"red\")\n",
    "    elif(type == 'scatter'):\n",
    "        plt.scatter(x, y, color = \"red\")\n",
    "    x = copy.deepcopy(ind)\n",
    "    for i in range(len(x)):\n",
    "        x[i]+=1\n",
    "    y = [dis[idx - 1] for idx in x]\n",
    "    if(type == 'line'):\n",
    "        plt.plot(x, y, color = \"blue\")\n",
    "    elif(type == 'scatter'):\n",
    "        plt.scatter(x, y, color = \"blue\")\n",
    "    plt.show() "
   ],
   "id": "775dd5f94c10be14",
   "outputs": [],
   "execution_count": 71
  },
  {
   "metadata": {
    "ExecuteTime": {
     "end_time": "2024-07-24T10:33:32.826711Z",
     "start_time": "2024-07-24T10:33:30.192999Z"
    }
   },
   "cell_type": "code",
   "source": [
    "row_data = pd.read_csv(dataset_path)\n",
    "row_data = row_data.dropna()\n",
    "data = row_data.copy(deep = True)"
   ],
   "id": "cc5a8d640647f6a7",
   "outputs": [],
   "execution_count": 72
  },
  {
   "metadata": {},
   "cell_type": "code",
   "source": "row_data",
   "id": "165f334d9c9e568d",
   "outputs": [],
   "execution_count": null
  },
  {
   "metadata": {},
   "cell_type": "code",
   "source": "len(row_data.DATE.unique())",
   "id": "593e30204d578ad7",
   "outputs": [],
   "execution_count": null
  },
  {
   "metadata": {},
   "cell_type": "code",
   "source": [
    "all_values = []\n",
    "for i in range(len(row_data.columns)):\n",
    "    if(isinstance(row_data.iloc[0, i], str)):\n",
    "        col = row_data.columns[i]\n",
    "        data.loc[:, col] = 1\n",
    "        col_values = row_data[col].unique()\n",
    "        all_values = np.concatenate((all_values, col_values))\n",
    "all_values = list(all_values)\n",
    "targets = list(np.full(len(all_values), 1))\n",
    "map = {all_values[i]: targets[i] for i in range(len(targets))}\n",
    "for item in list(map.keys()):\n",
    "    #data = data.replace(item, map[item])\n",
    "    pass\n",
    "data"
   ],
   "id": "1e8c9cf4b6d390f5",
   "outputs": [],
   "execution_count": null
  },
  {
   "metadata": {
    "ExecuteTime": {
     "end_time": "2024-07-24T10:33:34.048121Z",
     "start_time": "2024-07-24T10:33:33.935972Z"
    }
   },
   "cell_type": "code",
   "source": [
    "train_ratio = 0.7\n",
    "val_ratio = 0.1\n",
    "total_rows = data.shape[0]\n",
    "train_data = data[:int(total_rows * train_ratio)]\n",
    "val_data = data[int(total_rows * train_ratio): int(total_rows * (train_ratio + val_ratio))]\n",
    "test_data = data[int(total_rows * (train_ratio + val_ratio)):]\n",
    "data1 = train_data.copy(deep=True)\n",
    "data2 = val_data.copy(deep = True)\n",
    "data3 = test_data.copy(deep = True)"
   ],
   "id": "4b43a4361ab227cb",
   "outputs": [],
   "execution_count": 76
  },
  {
   "metadata": {},
   "cell_type": "code",
   "source": "data1",
   "id": "a2468843c0dc1edf",
   "outputs": [],
   "execution_count": null
  },
  {
   "metadata": {},
   "cell_type": "code",
   "source": "data2",
   "id": "c48ee99d60981978",
   "outputs": [],
   "execution_count": null
  },
  {
   "metadata": {},
   "cell_type": "code",
   "source": "data3",
   "id": "8922ff9cc3cb5b34",
   "outputs": [],
   "execution_count": null
  },
  {
   "metadata": {},
   "cell_type": "code",
   "source": [
    "indexes, anomalies, distances = detector(data, 98.0)\n",
    "test_indexes, test_anomalies, test_distances = test_valid(data1, data2, data3)"
   ],
   "id": "c9254e5595d0215b",
   "outputs": [],
   "execution_count": null
  },
  {
   "metadata": {},
   "cell_type": "code",
   "outputs": [],
   "execution_count": null,
   "source": "print(anomalies)",
   "id": "fe0795a322a3e0bf"
  },
  {
   "metadata": {},
   "cell_type": "code",
   "source": "print(len(indexes))",
   "id": "1317fdfedc38dd43",
   "outputs": [],
   "execution_count": null
  },
  {
   "metadata": {},
   "cell_type": "code",
   "source": "show(indexes, anomalies, distances, 'scatter')",
   "id": "ddbe00d1c4cd1668",
   "outputs": [],
   "execution_count": null
  },
  {
   "metadata": {},
   "cell_type": "code",
   "source": "row_data.iloc[indexes]",
   "id": "cbd98e802fcf93a7",
   "outputs": [],
   "execution_count": null
  },
  {
   "metadata": {},
   "cell_type": "code",
   "source": "show(indexes, anomalies, distances, 'line')",
   "id": "f447e66df9eab9c9",
   "outputs": [],
   "execution_count": null
  },
  {
   "metadata": {},
   "cell_type": "markdown",
   "source": "Test Phase",
   "id": "858357bd4d30c09e"
  },
  {
   "metadata": {
    "ExecuteTime": {
     "end_time": "2024-07-24T10:42:18.648242Z",
     "start_time": "2024-07-24T10:41:58.884024Z"
    }
   },
   "cell_type": "code",
   "source": [
    "anomals = label_maker(data)\n",
    "precision, recall, f1_score, false_positive_rate, false_negative_rate = measurements(indexes, anomals)"
   ],
   "id": "2b66cf2f774da9b0",
   "outputs": [],
   "execution_count": 86
  },
  {
   "metadata": {},
   "cell_type": "code",
   "source": [
    "print(\"precision is: \", precision)\n",
    "print(\"recall is: \", recall)\n",
    "print(\"f1 score is: \", f1_score)\n",
    "print(\"false positive rate is: \", false_positive_rate)\n",
    "print(\"false negative rate is: \", false_negative_rate)"
   ],
   "id": "117aa4a445d6c8fd",
   "outputs": [],
   "execution_count": null
  },
  {
   "metadata": {
    "ExecuteTime": {
     "end_time": "2024-07-24T10:42:19.330752Z",
     "start_time": "2024-07-24T10:42:18.664026Z"
    }
   },
   "cell_type": "code",
   "source": [
    "actual_anomals = label_maker(data3)\n",
    "length = len(actual_anomals)\n",
    "final_actual_anomals = [actual_anomals[i] - data3.index[0] for i in range(length)]\n",
    "precision, recall, f1_score, false_positive_rate, false_negative_rate = measurements(test_indexes, final_actual_anomals)"
   ],
   "id": "898acdcbf2693bb0",
   "outputs": [],
   "execution_count": 88
  },
  {
   "metadata": {},
   "cell_type": "code",
   "source": [
    "print(\"test precision is: \", precision)\n",
    "print(\"test recall is: \", recall)\n",
    "print(\"test f1 score is: \", f1_score)\n",
    "print(\"test false positive rate is: \", false_positive_rate)\n",
    "print(\"test false negative rate is: \", false_negative_rate)"
   ],
   "id": "d88a469f296510c3",
   "outputs": [],
   "execution_count": null
  },
  {
   "metadata": {},
   "cell_type": "code",
   "outputs": [],
   "execution_count": null,
   "source": "",
   "id": "29f12771c34912f6"
  }
 ],
 "metadata": {
  "kernelspec": {
   "display_name": "Python 3",
   "language": "python",
   "name": "python3"
  },
  "language_info": {
   "codemirror_mode": {
    "name": "ipython",
    "version": 2
   },
   "file_extension": ".py",
   "mimetype": "text/x-python",
   "name": "python",
   "nbconvert_exporter": "python",
   "pygments_lexer": "ipython2",
   "version": "2.7.6"
  }
 },
 "nbformat": 4,
 "nbformat_minor": 5
}
